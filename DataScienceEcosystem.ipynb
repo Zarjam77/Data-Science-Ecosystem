{
 "cells": [
  {
   "cell_type": "markdown",
   "id": "62478b72-b625-49d1-87bd-d9f08f15a5e8",
   "metadata": {},
   "source": [
    "# Data Science Tools and Ecosystem"
   ]
  },
  {
   "cell_type": "markdown",
   "id": "b519b2e8-16c8-4d95-b821-eca15408525d",
   "metadata": {},
   "source": [
    "## In this notebook, Data Science Tools and Ecosystem are summarized."
   ]
  },
  {
   "cell_type": "markdown",
   "id": "d241add4-0c8b-47ae-b942-b2e6d66046f7",
   "metadata": {},
   "source": [
    "## Some of the popular languages that Data Scientists use are:"
   ]
  },
  {
   "cell_type": "markdown",
   "id": "e15cd7c1-256c-41ba-84cd-d18cc3d9f34d",
   "metadata": {},
   "source": [
    "1. Python\n",
    "2. R\n",
    "3. Scala\n",
    "4. Julia"
   ]
  },
  {
   "cell_type": "markdown",
   "id": "d9ca0d72-bed5-4145-b246-184dcc43d36c",
   "metadata": {},
   "source": [
    "## Some of the commonly used libraries used by Data Scientists include:"
   ]
  },
  {
   "cell_type": "markdown",
   "id": "6d7f0cfa-b8c2-407b-87c9-45129d1049c6",
   "metadata": {},
   "source": [
    "1. ggplot\n",
    "2. matplotlib\n",
    "3. Pandas\n",
    "4. Numpy"
   ]
  },
  {
   "cell_type": "markdown",
   "id": "2f9691b7-888d-4feb-98bb-a6bfd15e0d9d",
   "metadata": {},
   "source": [
    "| Data Science Tools |\n",
    "| ------------------ |\n",
    "| Jupyter Notebooks |\n",
    "| RStudio |\n",
    "| VS Code |"
   ]
  },
  {
   "cell_type": "markdown",
   "id": "9d565941-f0f3-4dd7-8003-2c7e33158f13",
   "metadata": {},
   "source": [
    "### Below are a few examples of evaluating arithmetic expressions in Python"
   ]
  },
  {
   "cell_type": "code",
   "execution_count": 1,
   "id": "ae6b7e82-cef4-4a16-ba09-ae7820dd8b28",
   "metadata": {},
   "outputs": [
    {
     "data": {
      "text/plain": [
       "17"
      ]
     },
     "execution_count": 1,
     "metadata": {},
     "output_type": "execute_result"
    }
   ],
   "source": [
    "# This is a simple arithmetic expression to multiply then add integers\n",
    "(3 * 4) + 5"
   ]
  },
  {
   "cell_type": "code",
   "execution_count": 2,
   "id": "a80fdeac-919c-4ff0-8d45-c55c8d9d4f8d",
   "metadata": {},
   "outputs": [
    {
     "data": {
      "text/plain": [
       "3.3333333333333335"
      ]
     },
     "execution_count": 2,
     "metadata": {},
     "output_type": "execute_result"
    }
   ],
   "source": [
    "# This will convert 200 minutes to hours by diving by 60\n",
    "200 / 60"
   ]
  },
  {
   "cell_type": "markdown",
   "id": "c7acf376-f2ae-4a41-b88d-c1cd9c965eb4",
   "metadata": {},
   "source": [
    "__Objectives:__\n",
    "- Identify commonly used libraries in Data Science\n",
    "- List the popular languages for Data Science\n",
    "- Use Marckdown and Code cell efficiently in Jupyter Notebook\n",
    "- Convert minutes to houres by using Python code\n",
    "- Create simple arithmetic expressions in Python"
   ]
  },
  {
   "cell_type": "markdown",
   "id": "ca1fbaa2-25a9-450c-82fb-0eb15f01b275",
   "metadata": {},
   "source": [
    "## Author\n",
    "Zahra Babaei"
   ]
  }
 ],
 "metadata": {
  "kernelspec": {
   "display_name": "Python 3 (ipykernel)",
   "language": "python",
   "name": "python3"
  },
  "language_info": {
   "codemirror_mode": {
    "name": "ipython",
    "version": 3
   },
   "file_extension": ".py",
   "mimetype": "text/x-python",
   "name": "python",
   "nbconvert_exporter": "python",
   "pygments_lexer": "ipython3",
   "version": "3.12.8"
  }
 },
 "nbformat": 4,
 "nbformat_minor": 5
}
